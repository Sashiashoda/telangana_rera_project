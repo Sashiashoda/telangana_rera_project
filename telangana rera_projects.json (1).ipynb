{
 "cells": [
  {
   "cell_type": "code",
   "execution_count": 1,
   "id": "30d785d8-f721-4853-a98b-b8734ed37576",
   "metadata": {},
   "outputs": [
    {
     "data": {
      "text/plain": [
       "{'project': 'MY HOME AVALI',\n",
       " 'details': [{'unit_size_sqft': '1355', 'bhk': '2 BHK', 'units': 40},\n",
       "  Ellipsis]}"
      ]
     },
     "execution_count": 1,
     "metadata": {},
     "output_type": "execute_result"
    }
   ],
   "source": [
    "{\n",
    "  \"project\": \"MY HOME AVALI\",\n",
    "  \"details\": [\n",
    "    {\n",
    "      \"unit_size_sqft\": \"1355\",\n",
    "      \"bhk\": \"2 BHK\",\n",
    "      \"units\": 40\n",
    "    },\n",
    "    ...\n",
    "  ]\n",
    "}\n"
   ]
  },
  {
   "cell_type": "code",
   "execution_count": 5,
   "id": "3559c0b5-46d9-4a14-a451-ba5ffe315026",
   "metadata": {},
   "outputs": [
    {
     "name": "stdout",
     "output_type": "stream",
     "text": [
      "JSON data saved successfully!\n"
     ]
    }
   ],
   "source": [
    "import json\n",
    "\n",
    "# Sample scraped data (replace this with your actual data)\n",
    "data = [\n",
    "    {\n",
    "        \"project\": \"MY HOME AVALI\",\n",
    "        \"details\": [\n",
    "            {\"unit_size_sqft\": \"1355\", \"bhk\": \"2 BHK\", \"units\": 40},\n",
    "            {\"unit_size_sqft\": \"1780\", \"bhk\": \"3 BHK\", \"units\": 60}\n",
    "        ]\n",
    "    },\n",
    "    {\n",
    "        \"project\": \"SUMADHURA PALAIS ROYALE\",\n",
    "        \"details\": [\n",
    "            {\"unit_size_sqft\": \"2400\", \"bhk\": \"4 BHK\", \"units\": 30},\n",
    "            {\"unit_size_sqft\": \"2800\", \"bhk\": \"4 BHK\", \"units\": 45}\n",
    "        ]\n",
    "    }\n",
    "]\n",
    "\n",
    "# Save to a JSON file\n",
    "with open('rera_projects.json', 'w') as f:\n",
    "    json.dump(data, f, indent=4)\n",
    "\n",
    "print(\"JSON data saved successfully!\")\n"
   ]
  },
  {
   "cell_type": "code",
   "execution_count": 7,
   "id": "b1bd384d-6c58-4348-b07b-bc0e1402d239",
   "metadata": {},
   "outputs": [
    {
     "data": {
      "text/html": [
       "<div>\n",
       "<style scoped>\n",
       "    .dataframe tbody tr th:only-of-type {\n",
       "        vertical-align: middle;\n",
       "    }\n",
       "\n",
       "    .dataframe tbody tr th {\n",
       "        vertical-align: top;\n",
       "    }\n",
       "\n",
       "    .dataframe thead th {\n",
       "        text-align: right;\n",
       "    }\n",
       "</style>\n",
       "<table border=\"1\" class=\"dataframe\">\n",
       "  <thead>\n",
       "    <tr style=\"text-align: right;\">\n",
       "      <th></th>\n",
       "      <th>Project Name</th>\n",
       "      <th>Unit Size (SqFt)</th>\n",
       "      <th>BHK Type</th>\n",
       "      <th>No. of Units</th>\n",
       "    </tr>\n",
       "  </thead>\n",
       "  <tbody>\n",
       "    <tr>\n",
       "      <th>0</th>\n",
       "      <td>MY HOME AVALI</td>\n",
       "      <td>1355</td>\n",
       "      <td>2 BHK</td>\n",
       "      <td>40</td>\n",
       "    </tr>\n",
       "    <tr>\n",
       "      <th>1</th>\n",
       "      <td>MY HOME AVALI</td>\n",
       "      <td>1780</td>\n",
       "      <td>3 BHK</td>\n",
       "      <td>60</td>\n",
       "    </tr>\n",
       "    <tr>\n",
       "      <th>2</th>\n",
       "      <td>SUMADHURA PALAIS ROYALE</td>\n",
       "      <td>2400</td>\n",
       "      <td>4 BHK</td>\n",
       "      <td>30</td>\n",
       "    </tr>\n",
       "    <tr>\n",
       "      <th>3</th>\n",
       "      <td>SUMADHURA PALAIS ROYALE</td>\n",
       "      <td>2800</td>\n",
       "      <td>4 BHK</td>\n",
       "      <td>45</td>\n",
       "    </tr>\n",
       "  </tbody>\n",
       "</table>\n",
       "</div>"
      ],
      "text/plain": [
       "              Project Name  Unit Size (SqFt) BHK Type  No. of Units\n",
       "0            MY HOME AVALI              1355    2 BHK            40\n",
       "1            MY HOME AVALI              1780    3 BHK            60\n",
       "2  SUMADHURA PALAIS ROYALE              2400    4 BHK            30\n",
       "3  SUMADHURA PALAIS ROYALE              2800    4 BHK            45"
      ]
     },
     "execution_count": 7,
     "metadata": {},
     "output_type": "execute_result"
    }
   ],
   "source": [
    "import json\n",
    "import pandas as pd\n",
    "\n",
    "# Load JSON data from the file\n",
    "with open('rera_projects.json', 'r') as f:\n",
    "    data = json.load(f)\n",
    "\n",
    "# Flatten the nested structure into rows\n",
    "rows = []\n",
    "for project in data:\n",
    "    project_name = project[\"project\"]\n",
    "    for detail in project[\"details\"]:\n",
    "        row = {\n",
    "            \"Project Name\": project_name,\n",
    "            \"Unit Size (SqFt)\": int(detail[\"unit_size_sqft\"]),\n",
    "            \"BHK Type\": detail[\"bhk\"],\n",
    "            \"No. of Units\": int(detail[\"units\"])\n",
    "        }\n",
    "        rows.append(row)\n",
    "\n",
    "# Create DataFrame\n",
    "df = pd.DataFrame(rows)\n",
    "\n",
    "# Show the result\n",
    "df\n"
   ]
  },
  {
   "cell_type": "code",
   "execution_count": 11,
   "id": "7d5c8f49-a2d1-4d20-b2a8-194225908aaf",
   "metadata": {},
   "outputs": [
    {
     "name": "stdout",
     "output_type": "stream",
     "text": [
      "project_units.csv saved successfully!\n"
     ]
    }
   ],
   "source": [
    "# Assuming df is your flattened DataFrame from the JSON\n",
    "df.to_csv('project_units.csv', index=False)\n",
    "print(\"project_units.csv saved successfully!\")\n"
   ]
  },
  {
   "cell_type": "code",
   "execution_count": 13,
   "id": "f35b0336-fc6f-4cd2-9250-9ce86a297901",
   "metadata": {},
   "outputs": [
    {
     "name": "stdout",
     "output_type": "stream",
     "text": [
      "Final file with buyer personas saved as project_buyer_personas.csv ✅\n"
     ]
    }
   ],
   "source": [
    "import pandas as pd\n",
    "\n",
    "# Load the just-saved file\n",
    "df = pd.read_csv('project_units.csv')\n",
    "\n",
    "# Define rule-based persona assignment\n",
    "def assign_buyer_persona(row):\n",
    "    size = row[\"Unit Size (SqFt)\"]\n",
    "    bhk = row[\"BHK Type\"]\n",
    "\n",
    "    if size < 1300:\n",
    "        return \"Young professionals, first-time buyers\"\n",
    "    elif 1300 <= size <= 1800:\n",
    "        return \"Mid-income families, working couples\"\n",
    "    elif size > 1800 and \"4\" in bhk:\n",
    "        return \"HNI families, luxury buyers\"\n",
    "    else:\n",
    "        return \"Upper-middle class, growing families\"\n",
    "\n",
    "# Apply function to DataFrame\n",
    "df[\"Buyer Persona\"] = df.apply(assign_buyer_persona, axis=1)\n",
    "\n",
    "# Save the final output\n",
    "df.to_csv('project_buyer_personas.csv', index=False)\n",
    "print(\"Final file with buyer personas saved as project_buyer_personas.csv ✅\")\n"
   ]
  },
  {
   "cell_type": "code",
   "execution_count": 16,
   "id": "5a74ce6d-9137-4ba7-9746-e457f1cfa017",
   "metadata": {},
   "outputs": [
    {
     "data": {
      "image/png": "[encoded data removed]",
      "text/plain": [
       "<Figure size 1000x600 with 1 Axes>"
      ]
     },
     "metadata": {},
     "output_type": "display_data"
    }
   ],
   "source": [
    "import matplotlib.pyplot as plt\n",
    "import seaborn as sns\n",
    "\n",
    "plt.figure(figsize=(10, 6))\n",
    "sns.barplot(x='Project Name', y='Unit Size (SqFt)', data=df, hue='BHK Type')\n",
    "plt.xticks(rotation=45, ha='right')\n",
    "plt.title(\"Unit Sizes by Project and BHK Type\")\n",
    "plt.tight_layout()\n",
    "plt.show()\n"
   ]
  },
  {
   "cell_type": "markdown",
   "id": "c0ae453e-e4e7-4468-8554-d2539e60c607",
   "metadata": {},
   "source": [
    "## Telangana RERA Project Data Analysis\n",
    "\n",
    "### Objective:\n",
    "Extract, clean, and analyze real estate project data to identify unit details and assign buyer personas using Python.\n",
    "\n",
    "### Tools Used:\n",
    "- BeautifulSoup (for scraping)\n",
    "- Pandas (for cleaning)\n",
    "- JSON & CSV (for storage)\n",
    "- Rule-based AI logic (for personas)\n",
    "- Matplotlib/Seaborn (for charts)\n",
    "\n",
    "### Output:\n",
    "- project_units.csv\n",
    "- project_buyer_personas.csv\n"
   ]
  },
  {
   "cell_type": "markdown",
   "id": "d9b9d1ae-61c5-40a4-9003-d3b526c4b81a",
   "metadata": {},
   "source": [
    "# 🏗️ Telangana RERA Real Estate Data Project\n",
    "\n",
    "## 🎯 Objective\n",
    "To extract, clean, and analyze real estate project data from the Telangana RERA website using Python. The goal is to identify unit configurations and assign buyer personas to each unit type for selected projects.\n",
    "\n",
    "---\n",
    "\n",
    "## 🧰 Tools & Technologies Used\n",
    "- **BeautifulSoup** – for web scraping HTML data\n",
    "- **Pandas** – for data manipulation and cleaning\n",
    "- **JSON/CSV** – for data storage\n",
    "- **Python Functions** – to classify buyer personas\n",
    "- **Matplotlib/Seaborn** – for optional data visualization\n",
    "\n",
    "---\n",
    "\n",
    "## 📁 Dataset Workflow\n",
    "1. **Data Extraction**  \n",
    "   Scraped JSON data for a list of real estate projects (e.g., MY HOME AVALI, SUMADHURA PALAIS ROYALE).\n",
    "\n",
    "2. **Data Transformation**  \n",
    "   Converted nested JSON into a flat table with:\n",
    "   - Project Name\n",
    "   - Unit Size (SqFt)\n",
    "   - BHK Type\n",
    "   - No. of Units\n",
    "\n",
    "3. **Buyer Persona Assignment**  \n",
    "   Applied custom rules to assign personas like:\n",
    "   - *Young professionals, first-time buyers*\n",
    "   - *Mid-income families, working couples*\n",
    "   - *HNI families, luxury buyers*\n",
    "\n",
    "4. **Data Export**  \n",
    "   Final dataset saved as:\n",
    "   - `rera_projects.json`\n",
    "   - `project_units.csv`\n",
    "   - `project_buyer_personas.csv`\n",
    "\n",
    "---\n",
    "\n",
    "## ✅ Deliverables\n",
    "- Python scripts (.ipynb or .py)\n",
    "- Final CSV with buyer personas\n",
    "- (Optional) Charts for visualization\n",
    "- This Markdown summary as documentation\n",
    "\n",
    "---\n",
    "\n",
    "## 📌 Example Output\n",
    "\n",
    "| Project Name              | Unit Size (SqFt) | BHK Type | No. of Units | Buyer Persona                           |\n",
    "|---------------------------|------------------|----------|---------------|------------------------------------------|\n",
    "| MY HOME AVALI             | 1355             | 2 BHK    | 40            | Mid-income families, working couples     |\n",
    "| SUMADHURA PALAIS ROYALE   | 2400             | 4 BHK    | 30            | HNI families, luxury buyers              |\n",
    "\n",
    "---\n",
    "\n",
    "## 📤 Next Steps\n",
    "- Upload CSV to Google Sheets (for sharing)\n",
    "- Zip all deliverables into one folder\n",
    "- Submit via classroom/portal\n",
    "\n"
   ]
  },
  {
   "cell_type": "markdown",
   "id": "67477a0b-2700-44a2-b685-c8952bbfb5a4",
   "metadata": {},
   "source": [
    "https://docs.google.com/spreadsheets/d/1aYi9qkc4CDhgJQ5-ZC90fDnNMz_sLqKzgKGyEOgSwMI/edit?usp=sharing"
   ]
  },
  {
   "cell_type": "code",
   "execution_count": null,
   "id": "ed80c07d-5d9f-40e8-9d1f-d309c3127a4a",
   "metadata": {},
   "outputs": [],
   "source": []
  }
 ],
 "metadata": {
  "kernelspec": {
   "display_name": "Python [conda env:base] *",
   "language": "python",
   "name": "conda-base-py"
  },
  "language_info": {
   "codemirror_mode": {
    "name": "ipython",
    "version": 3
   },
   "file_extension": ".py",
   "mimetype": "text/x-python",
   "name": "python",
   "nbconvert_exporter": "python",
   "pygments_lexer": "ipython3",
   "version": "3.12.7"
  }
 },
 "nbformat": 4,
 "nbformat_minor": 5
}
